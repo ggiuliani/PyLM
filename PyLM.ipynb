{
 "cells": [
  {
   "cell_type": "markdown",
   "id": "e4009ee8-8b91-47bb-9981-9ebefdbd73fa",
   "metadata": {},
   "source": [
    "# PyLM - Python Landscape Mosaic model"
   ]
  },
  {
   "cell_type": "markdown",
   "id": "8513e90f-a63f-40b4-ac23-b90aa63014e5",
   "metadata": {},
   "source": [
    "---\n",
    "<div>This is a Python implementation of the Landscape Mosaic approach as originaly proposed in <a href='https://ies-ows.jrc.ec.europa.eu/gtb/GTB/psheets/GTB-Pattern-LM.pdf' target='_blank'>Vogt et al. (2024)</a> and further refined in <a href='https://doi.org/10.1371/journal.pone.0304215' target='_blank'>Vogt et al. (2024)</a> to support landscape anaylsis.</div>\n",
    "<br>Author(s): <a href='https://www.unige.ch/envirospace/people/giuliani' target='_blank'>Gregory Giuliani</a>\n",
    "<br>Version: 0.1\n",
    "<br>Date: 2025-04-13\n",
    "<br>Supported by: SNF DynamicLand; Horizon-Europ Nostradamus; LandShift; and MONALISA"
   ]
  },
  {
   "cell_type": "markdown",
   "id": "6149b78d-72e8-4caa-a9c4-6ab76fcb5938",
   "metadata": {},
   "source": [
    "---\n",
    "<b><u>Outline</u></b>\n",
    "* [Methdology](#methodology)\n",
    "* [Intialize](#initialize)\n",
    "* [Input data](#inputdata)\n",
    "    * [Clip data](#clip)\n",
    "* [LM Analysis](#lmAnalysis)\n",
    "    * [LM Background](#lmBackground)\n",
    "    * [LM Diversity](#lmDiversity)\n",
    "    * [LM Agriculture](#lmAgriculture)\n",
    "    * [LM Natural](#lmNatural)\n",
    "    * [LM Developed](#lmDeveloped)\n",
    "    * [LM Anthropic Intensity](#lmAnthropicIntensity)\n",
    "    * [Heatmap](#lmHeatmap)"
   ]
  },
  {
   "attachments": {},
   "cell_type": "markdown",
   "id": "f1b02b5a-12ba-4924-b57c-9804c0f3766e",
   "metadata": {},
   "source": [
    "---\n",
    "<a id=\"methodology\"></a>\n",
    "## Methodology\n",
    "<i>from <a href='https://ies-ows.jrc.ec.europa.eu/gtb/GTB/psheets/GTB-Pattern-LM.pdf' target='_blank'>Vogt et al. (2024)</a></i>\n",
    "<div style=\"text-align: justify\">The Landscape Mosaic is a tri-polar classification of a location accounting for the relative contributions of three prevalent land cover types, i.e., Agriculture, Natural, Developed in the window surrounding that location. The classification model is designed to identify anthropogenic activity (land cover classes falling in the categories Agriculture and Developed) in relation to natural land cover.\n",
    "The tri-polar classification scheme uses the threshold values of 10%, 60%, and 100% along each axis to partition the tri-polar space into 19 mosaic classes. These threshold values are indicative for the presence (10%), dominance (60%), or uniqueness (100%) of each land cover type. A lower-case letter (a-Agriculture, n-Natural, or d-Developed) in a mosaic class name denotes a respective land cover type proportion of at least 10% but less than 60%; an upper-class letter (A, N, D) denotes a respective contribution of at least 60% but less than 100%; A letter does not appear if the respective land cover proportion is less than 10%. Locations being composed of a single land cover type only (100%) are found at the corner points of the Mosaic triangle and are labeled with AA, NN, and DD, respectively. With this notation, Dominance is indicated by upper-case letters, an Interface Zone by a combination of upper- and lower-case letters, and a Mixture is indicated by lower-case letters only. The Mosaic colors reflect the varying degree in color intensity with respect to the proportion of blue-Agriculture, green-Natural, and red-Developed.</div>\n",
    "\n",
    "<div style=\"text-align: justify\">In the resulting LM map, each pixel has a triplet of values showing the relative contribution to the 3 land cover types Agriculture, Natural, Developed. This implies that each pixel value triplet is positioned at a specific location within the triangular domain space. The 19 sub-sections of the triangle - representing presence, dominance and uniqueness - are color- coded into 19 mosaic classes, which are displayed in the resulting LM spatial maps and summarized in the legend above. Because each image pixel value triplet corresponds to a specific location in the triangle, the entire set of image pixels can be inserted in the triangle, resulting in a heatmap (point cloud distribution). To minimize computation time and facilitate the interpretation, this process is conducted for the 100 sub-triangles only, defined by the 10% intervals along each axis. The corner points of the triangle representing exclusive presence of one land cover type only form an additional 3 classes. With this setup, the heatmap consist of 103 occurrence classes, showing the relative pixel occurrence frequency in each sub-space.</div>"
   ]
  },
  {
   "cell_type": "markdown",
   "id": "83c40c86-f769-4207-b548-4b05da5fb8ed",
   "metadata": {},
   "source": [
    "---\n",
    "<a id=\"initialize\"></a>\n",
    "## Initialize\n",
    "<div style=\"text-align: justify\">This module first test if the necessary librairies are installed and then user is able to define both input and output folders.</div>"
   ]
  },
  {
   "cell_type": "code",
   "execution_count": 1,
   "id": "f195f37b-90ae-4a04-ba91-de98b52df03a",
   "metadata": {
    "editable": true,
    "slideshow": {
     "slide_type": ""
    },
    "tags": []
   },
   "outputs": [],
   "source": [
    "# Test if the libraries are installed and if not install them\n",
    "try:\n",
    "  import rasterio\n",
    "except:\n",
    "  !pip install rasterio\n",
    "  import rasterio\n",
    "\n",
    "try:\n",
    "  import numpy\n",
    "except:\n",
    "  !pip install numpy\n",
    "  import numpy\n",
    "\n",
    "try:\n",
    "  import scipy\n",
    "except:\n",
    "  !pip install scipy\n",
    "  import scipy\n",
    "\n",
    "try:\n",
    "  import csv\n",
    "except:\n",
    "  !pip install csv\n",
    "  import csv\n",
    "\n",
    "#Import all necessary libraries\n",
    "import rasterio\n",
    "import numpy as np\n",
    "import scipy\n",
    "import rasterio.mask\n",
    "from matplotlib import pyplot\n",
    "import matplotlib.pyplot as plt\n",
    "from rasterio.plot import show\n",
    "from itertools import product\n",
    "from rasterio.transform import Affine\n",
    "from rasterio.transform import from_origin\n",
    "from numpy.lib.stride_tricks import sliding_window_view\n",
    "import csv"
   ]
  },
  {
   "cell_type": "code",
   "execution_count": 2,
   "id": "fa8c4fe2-1615-49fa-85e4-cf5e09aa9f4a",
   "metadata": {},
   "outputs": [],
   "source": [
    "#Define the global variables\n",
    "inputFolder = '../inputs/' #To be adapted by user\n",
    "outputFolder = '../outputs/' #To be adapted by user"
   ]
  },
  {
   "cell_type": "markdown",
   "id": "9ecce190-b63b-4781-ac93-8800feee0109",
   "metadata": {},
   "source": [
    "<a id=\"inputdata\"></a>\n",
    "## Input Data - Import the 3-class Land Cover map\n",
    "<div style=\"text-align: justify\">The input image for the Landscape Mosaic analysis must be a raster map with no more than 3 target classes having the assignment AND (1 Byte - Agriculture, 2 Byte - Natural, 3 Byte - Developed) plus an optional class value of 0 Byte which is reserved for masking missing/no-data pixels. The target classes must not necessary be Agriculture, Natural, Developed but could be any three prevalent land cover types in a given area.</div>"
   ]
  },
  {
   "cell_type": "code",
   "execution_count": null,
   "id": "444c7445-6750-49df-b3df-dbe42797e622",
   "metadata": {},
   "outputs": [],
   "source": [
    "#read the LCCS Level-3 geotiff file\n",
    "l3 = rasterio.open(inputFolder+'level3_out_ch_2018.tif') #To be adapted by user\n",
    "\n",
    "#Print different information on the layer\n",
    "#Dimensions\n",
    "print('Width: '+str(l3.width))\n",
    "print('Height: '+str(l3.height))\n",
    "\n",
    "#CRS\n",
    "print('CRS: '+str(l3.crs))\n",
    "\n",
    "# Bounds of the file\n",
    "print('BBOXh: '+str(l3.bounds))\n",
    "\n",
    "#Number of band\n",
    "print('Index: '+str(l3.indexes))\n",
    "\n",
    "#Resolution\n",
    "print('Resolution: '+str(l3.res))\n",
    "\n",
    "#Get unique LCCS3 code present in the map\n",
    "band1 = l3.read(1)\n",
    "np.unique(band1)"
   ]
  },
  {
   "cell_type": "code",
   "execution_count": null,
   "id": "49aff2a5-d7a4-4c00-97c9-76838748e759",
   "metadata": {},
   "outputs": [],
   "source": [
    "#Visualize the LCCS Level-3 map\n",
    "pyplot.imshow(band1, cmap='grey')\n",
    "pyplot.show()  "
   ]
  },
  {
   "cell_type": "markdown",
   "id": "fd87d7c0-c2fe-4498-ab11-31dc6fabea72",
   "metadata": {},
   "source": [
    "<a id=\"lmAnalysis\"></a>\n",
    "## LM Analysis\n",
    "<i>from <a href='https://ies-ows.jrc.ec.europa.eu/gtb/GTB/psheets/GTB-Pattern-LM.pdf' target='_blank'>Vogt et al. (2024)</a> and <a href='https://publications.jrc.ec.europa.eu/repository/handle/JRC120383' target='_blank'>Maes et al. (2020)</a></i>\n",
    "<div style=\"text-align: justify\">Each pixel in the LM-image is derived by a moving window procedure in the following way: a) a fixed-area square window is centered over a given pixel of the land cover type image; b) the composition of the three land cover types (the contribution triplet in A, N, D) is calculated from the pixels covered by the square window; c) the corresponding mosaic class is placed on the LM-image at the location of the investigated pixel. This implies that each pixel in the LM-image describes the land cover context within the surrounding square area.</div>\n",
    "<div style=\"text-align: justify\">The full LM-information is then summarised into the following five stratification layers with specific focus on dedicated thematic topics: \n",
    "\n",
    "1. LM-Background: LM summary into 4 classes: Natural, Agriculture, Developed and Mixed.  \n",
    "\n",
    "2. LM-Diversity: LM summary into 4 classes showing increasing degree of land cover diversity from Uniform, Dual, Triple, to Intermixed land cover.  \n",
    "\n",
    "3. LM-Agriculture: LM interface summary into 3 classes showing areas where agricultural land cover is dominant (>= 60%), subdominant, or minor (<10%).  \n",
    "\n",
    "4. LM-Natural: LM interface summary into 3 classes showing areas where natural land cover is dominant (>= 60%), subdominant, or minor (<10%).  \n",
    "\n",
    "5. LM-Developed: LM interface summary into 3 classes showing areas where developed land cover is dominant (>= 60%), subdominant, or minor (<10%).\n",
    "\n",
    "<div>\n",
    "<div style=\"text-align: justify\">The scope of the LM-Background layer is to facilitate the reporting on land cover composition by focusing on the dominant presence (>= 60%) of each of the three land cover types. The second stratification layer, LMDiversity, reports on the degree of spatial land cover heterogeneity. Because land cover dynamics are mainly driven by human activities it is of interest to investigate the interface zones for each of the 3 land cover types with their surrounding neighbourhood. Hence, the purpose of the stratification layer 4 (LM-Natural) is to delineate areas with prevalent natural land cover from those impacted by anthropogenic activities. The purpose of the stratification layers 3 (LM-Agriculture) and 5 (LM-Developed) is to locate and show the intensity of the human footprint on the landscape originating from Agriculture and Developed pressure, respectively. The mapping of the three interface zones (stratification layer 3-5) is an essential prerequisite for policy planning, monitoring and assessment, and towards understanding potential impacts of anthropogenic activities on the environment.</div>\n",
    "    \n",
    "<div style=\"text-align: justify\">Because each pixel has a contribution triplet in A, N, D, it will fall in one of the 103 sub-spaces of the LM-triangle. The heatmap shows the relative occurrence frequency of all LM-image pixels. Because occurrence frequencies are shown in percent, the heatmap can be used to a) compare landscape composition for images of different extent, or b) investigate time series at the same observation scale, or c) investigate changes in land cover prevalence across different scales.</div>"
   ]
  },
  {
   "cell_type": "markdown",
   "id": "2f839db1-ba55-4853-9d6b-8001d7f80734",
   "metadata": {},
   "source": [
    "### Moving Window count\n",
    "Computes the frequencies for the three end-members and store them into a 3D-array"
   ]
  },
  {
   "cell_type": "code",
   "execution_count": null,
   "id": "f4d3f019-1f13-4df9-bdad-bc8b870997d0",
   "metadata": {
    "editable": true,
    "slideshow": {
     "slide_type": ""
    },
    "tags": []
   },
   "outputs": [],
   "source": [
    "#General idea: iterate over the entire array\n",
    "#for each pixel > store c1-c2-c3 (values store in a 3-band raster, each representing one class\n",
    "#the produced raster is then used for the Map - Heatmap - LM_Background, ...\n",
    "#Padding: https://www.pythoncentral.io/how-to-use-numpy-pad-examples-and-syntax/\n",
    "#if the LCCS3 map is at 10m resolution then a 10x10 window will give you a direct %\n",
    "\n",
    "#window size\n",
    "res=10\n",
    "\n",
    "# Define the window shape\n",
    "window_shape = (res, res)\n",
    "\n",
    "# Padding size to ensure all pixels are included\n",
    "pad_width = res // 2\n",
    "\n",
    "# Pad the input 2D array to ensure that all pixels of the country are processed\n",
    "padded_raster = np.pad(raster, pad_width, mode='edge')\n",
    "\n",
    "# Create a sliding window view of the raster with shape\n",
    "windows = np.lib.stride_tricks.sliding_window_view(padded_raster, window_shape)\n",
    "\n",
    "# Initialize an array to store the result\n",
    "result = np.empty((3, windows.shape[0], windows.shape[1]), dtype=raster.dtype)\n",
    "\n",
    "# Iterate over the windows\n",
    "for i in range(windows.shape[0]):\n",
    "    for j in range(windows.shape[1]):\n",
    "\n",
    "        # Extract the current 10x10 window\n",
    "        window = windows[i, j]\n",
    "\n",
    "        # Calculate the sum and store it in the result array\n",
    "        result[0, i, j] = np.count_nonzero(window == 1)  # Band 1: Agriculture count\n",
    "        result[1, i, j] = np.count_nonzero(window == 2)   # Band 2: Natural count\n",
    "        result[2, i, j] = np.count_nonzero(window == 3)   # Band 3: Developed count\n",
    "\n",
    "# Save the result as a new GeoTIFF file\n",
    "output_filename = outputFolder+\"lmCount.tif\"\n",
    "\n",
    "# Define GeoTIFF metadata, you may need to adjust these depending on your data \n",
    "transform = from_origin(src.bounds.left, src.bounds.top, res, res)  # transform (origin x, origin y, pixel size x, pixel size y)\n",
    "new_dtype = raster.dtype\n",
    "\n",
    "with rasterio.open(\n",
    "    output_filename,\n",
    "    \"w\",\n",
    "    driver=\"GTiff\",\n",
    "    height=result.shape[1],\n",
    "    width=result.shape[2],\n",
    "    count=3,  # Three bands for mean, min, and max\n",
    "    dtype=new_dtype,\n",
    "    crs=\"EPSG:2056\",  # Coordinate reference system; adjust as needed\n",
    "    transform=transform,\n",
    ") as dst:\n",
    "    dst.write(result[0], 1)  # Write Band 1 (agriculture)\n",
    "    dst.write(result[1], 2)  # Write Band 2 (natural)\n",
    "    dst.write(result[2], 3)  # Write Band 3 (developed)\n",
    "\n",
    "print(f\"GeoTIFF file '{output_filename}' created successfully.\")"
   ]
  },
  {
   "cell_type": "markdown",
   "id": "cdc58493-5e9d-447b-ba19-81d60158d356",
   "metadata": {},
   "source": [
    "---\n",
    "<br>License: https://creativecommons.org/licenses/by/4.0/ \n",
    "<br><img src=\"https://mirrors.creativecommons.org/presskit/buttons/88x31/png/by.png\" alt=\"CC-BY\" width=\"100\"/>"
   ]
  }
 ],
 "metadata": {
  "kernelspec": {
   "display_name": "rasterio",
   "language": "python",
   "name": "rasterio"
  },
  "language_info": {
   "codemirror_mode": {
    "name": "ipython",
    "version": 3
   },
   "file_extension": ".py",
   "mimetype": "text/x-python",
   "name": "python",
   "nbconvert_exporter": "python",
   "pygments_lexer": "ipython3",
   "version": "3.11.11"
  }
 },
 "nbformat": 4,
 "nbformat_minor": 5
}
