{
 "cells": [
  {
   "cell_type": "code",
   "execution_count": 2,
   "id": "3404dda7-8680-4c43-a6e1-169dfdb6fd63",
   "metadata": {},
   "outputs": [],
   "source": [
    "# PyLM - Python Landscape Mosaic model"
   ]
  },
  {
   "cell_type": "markdown",
   "id": "8513e90f-a63f-40b4-ac23-b90aa63014e5",
   "metadata": {},
   "source": [
    "---\n",
    "<div>This is a Python implementation of the Landscape Mosaic approach as proposed in <a href='https://ies-ows.jrc.ec.europa.eu/gtb/GTB/psheets/GTB-Pattern-LM.pdf' target='_blank'>Vogt et al. (2024)</a> and further refined in <a href='https://doi.org/10.1371/journal.pone.0304215' target='_blank'>Vogt et al. (2024)</a> to support landscape anaylsis.</div>\n",
    "<br>Author(s): <a href='https://www.unige.ch/envirospace/people/giuliani' target='_blank'>Gregory Giuliani</a>\n",
    "<br>Version: 0.1\n",
    "<br>Date: 2025-04-13\n",
    "<br>Supported by: SNF DynamicLand; Horizon-Europ Nostradamus; LandShift; and MONALISA"
   ]
  },
  {
   "cell_type": "markdown",
   "id": "6149b78d-72e8-4caa-a9c4-6ab76fcb5938",
   "metadata": {},
   "source": [
    "---\n",
    "<b><u>Outline</u></b>\n",
    "* [Methdology](#methodology)\n",
    "* [Intialize](#initialize)\n",
    "* [Input data](#inputdata)\n",
    "    * [Clip data](#clip)\n",
    "* [LM Analysis](#lmAnalysis)\n",
    "    * [LM Background](#lmBackground)\n",
    "    * [LM Diversity](#lmDiversity)\n",
    "    * [LM Agriculture](#lmAgriculture)\n",
    "    * [LM Natural](#lmNatural)\n",
    "    * [LM Developed](#lmDeveloped)\n",
    "    * [LM Anthropic Intensity](#lmAnthropicIntensity)\n",
    "    * [Heatmap](#lmHeatmap)"
   ]
  },
  {
   "attachments": {},
   "cell_type": "markdown",
   "id": "f1b02b5a-12ba-4924-b57c-9804c0f3766e",
   "metadata": {},
   "source": [
    "---\n",
    "<a id=\"methodology\"></a>\n",
    "## Methodology\n",
    "<i>from <a href='https://ies-ows.jrc.ec.europa.eu/gtb/GTB/psheets/GTB-Pattern-LM.pdf' target='_blank'>Vogt et al. (2024)</a></i>\n",
    "<div style=\"text-align: justify\">The Landscape Mosaic is a tri-polar classification of a location accounting for the relative contributions of three prevalent land cover types, i.e., Agriculture, Natural, Developed in the window surrounding that location. The classification model is designed to identify anthropogenic activity (land cover classes falling in the categories Agriculture and Developed) in relation to natural land cover.\n",
    "The tri-polar classification scheme uses the threshold values of 10%, 60%, and 100% along each axis to partition the tri-polar space into 19 mosaic classes. These threshold values are indicative for the presence (10%), dominance (60%), or uniqueness (100%) of each land cover type. A lower-case letter (a-Agriculture, n-Natural, or d-Developed) in a mosaic class name denotes a respective land cover type proportion of at least 10% but less than 60%; an upper-class letter (A, N, D) denotes a respective contribution of at least 60% but less than 100%; A letter does not appear if the respective land cover proportion is less than 10%. Locations being composed of a single land cover type only (100%) are found at the corner points of the Mosaic triangle and are labeled with AA, NN, and DD, respectively. With this notation, Dominance is indicated by upper-case letters, an Interface Zone by a combination of upper- and lower-case letters, and a Mixture is indicated by lower-case letters only. The Mosaic colors reflect the varying degree in color intensity with respect to the proportion of blue-Agriculture, green-Natural, and red-Developed.</div>\n",
    "\n",
    "<div style=\"text-align: justify\">In the resulting LM map, each pixel has a triplet of values showing the relative contribution to the 3 land cover types Agriculture, Natural, Developed. This implies that each pixel value triplet is positioned at a specific location within the triangular domain space. The 19 sub-sections of the triangle - representing presence, dominance and uniqueness - are color- coded into 19 mosaic classes, which are displayed in the resulting LM spatial maps and summarized in the legend above. Because each image pixel value triplet corresponds to a specific location in the triangle, the entire set of image pixels can be inserted in the triangle, resulting in a heatmap (point cloud distribution). To minimize computation time and facilitate the interpretation, this process is conducted for the 100 sub-triangles only, defined by the 10% intervals along each axis. The corner points of the triangle representing exclusive presence of one land cover type only form an additional 3 classes. With this setup, the heatmap consist of 103 occurrence classes, showing the relative pixel occurrence frequency in each sub-space.</div>"
   ]
  },
  {
   "cell_type": "markdown",
   "id": "83c40c86-f769-4207-b548-4b05da5fb8ed",
   "metadata": {},
   "source": [
    "---\n",
    "<a id=\"initialize\"></a>\n",
    "## Initialize"
   ]
  },
  {
   "cell_type": "code",
   "execution_count": 1,
   "id": "f195f37b-90ae-4a04-ba91-de98b52df03a",
   "metadata": {},
   "outputs": [],
   "source": [
    "#Import all necessary libraries\n",
    "import rasterio\n",
    "import numpy as np\n",
    "import scipy\n",
    "import rasterio.mask\n",
    "from matplotlib import pyplot\n",
    "import matplotlib.pyplot as plt\n",
    "from rasterio.plot import show\n",
    "from itertools import product\n",
    "from rasterio.transform import Affine\n",
    "from rasterio.transform import from_origin\n",
    "from numpy.lib.stride_tricks import sliding_window_view\n",
    "import csv"
   ]
  },
  {
   "cell_type": "code",
   "execution_count": 2,
   "id": "fa8c4fe2-1615-49fa-85e4-cf5e09aa9f4a",
   "metadata": {},
   "outputs": [],
   "source": [
    "#Define the global variables\n",
    "inputFolder = '../inputs/' #To be adapted by user\n",
    "outputFolder = '../outputs/' #To be adapted by user"
   ]
  },
  {
   "cell_type": "markdown",
   "id": "cdc58493-5e9d-447b-ba19-81d60158d356",
   "metadata": {},
   "source": [
    "---\n",
    "<br>License: https://creativecommons.org/licenses/by/4.0/ \n",
    "<br><img src=\"https://mirrors.creativecommons.org/presskit/buttons/88x31/png/by.png\" alt=\"CC-BY\" width=\"100\"/>"
   ]
  }
 ],
 "metadata": {
  "kernelspec": {
   "display_name": "rasterio",
   "language": "python",
   "name": "rasterio"
  },
  "language_info": {
   "codemirror_mode": {
    "name": "ipython",
    "version": 3
   },
   "file_extension": ".py",
   "mimetype": "text/x-python",
   "name": "python",
   "nbconvert_exporter": "python",
   "pygments_lexer": "ipython3",
   "version": "3.11.11"
  }
 },
 "nbformat": 4,
 "nbformat_minor": 5
}
